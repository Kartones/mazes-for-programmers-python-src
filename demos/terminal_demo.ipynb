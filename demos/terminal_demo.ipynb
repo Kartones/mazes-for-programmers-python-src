{
 "cells": [
  {
   "cell_type": "code",
   "execution_count": 24,
   "metadata": {},
   "outputs": [],
   "source": [
    "# Temporarilly add parent folder to path\n",
    "import os\n",
    "import sys\n",
    "module_path = os.path.abspath(os.path.join('..'))\n",
    "if module_path not in sys.path:\n",
    "    sys.path.append(module_path)\n",
    "\n",
    "from base.colored_grid import ColoredGrid\n",
    "\n",
    "from algorithms.binary_tree import BinaryTree\n",
    "\n",
    "from exporters.ascii_exporter import ASCIIExporter\n",
    "# from exporters.unicode_exporter import UnicodeExporter # Doesn't work well in jupyter notebook\n",
    "ae = ASCIIExporter()\n",
    "\n",
    "import pathfinders.dijkstra as Dijkstra\n",
    "import pathfinders.longest_path as LongestPath"
   ]
  },
  {
   "cell_type": "code",
   "execution_count": 25,
   "metadata": {},
   "outputs": [],
   "source": [
    "# Run RecursiveBacktracker\n",
    "grid = ColoredGrid(10,10)\n",
    "grid = BinaryTree.on(grid)"
   ]
  },
  {
   "cell_type": "code",
   "execution_count": 26,
   "metadata": {},
   "outputs": [
    {
     "name": "stdout",
     "output_type": "stream",
     "text": [
      "+---+---+---+---+---+---+---+---+---+---+\n",
      "|                                       |\n",
      "+---+---+   +   +   +   +---+---+   +   +\n",
      "|           |   |   |   |           |   |\n",
      "+---+   +   +---+   +   +   +---+---+   +\n",
      "|       |   |       |   |   |           |\n",
      "+   +---+---+   +   +---+---+---+---+   +\n",
      "|   |           |   |                   |\n",
      "+---+   +   +---+---+   +---+---+---+   +\n",
      "|       |   |           |               |\n",
      "+   +   +   +---+   +---+---+   +   +   +\n",
      "|   |   |   |       |           |   |   |\n",
      "+---+   +   +---+---+   +   +---+---+   +\n",
      "|       |   |           |   |           |\n",
      "+   +---+---+---+   +   +---+   +---+   +\n",
      "|   |               |   |       |       |\n",
      "+   +   +   +   +   +   +   +   +   +   +\n",
      "|   |   |   |   |   |   |   |   |   |   |\n",
      "+---+   +   +   +---+   +   +---+---+   +\n",
      "|       |   |   |       |   |           |\n",
      "+---+---+---+---+---+---+---+---+---+---+\n",
      "\n"
     ]
    }
   ],
   "source": [
    "ae.render(grid)"
   ]
  },
  {
   "cell_type": "code",
   "execution_count": 27,
   "metadata": {},
   "outputs": [
    {
     "name": "stdout",
     "output_type": "stream",
     "text": [
      "Solving maze from row 9 column 0 to row 8 column 0\n"
     ]
    }
   ],
   "source": [
    "start_row, start_column, end_row, end_column = LongestPath.calculate(grid)\n",
    "print(\"Solving maze from row {} column {} to row {} column {}\".format(start_row, start_column, end_row, end_column))\n",
    "grid = Dijkstra.calculate_distances(grid, start_row, start_column, end_row, end_column)"
   ]
  },
  {
   "cell_type": "code",
   "execution_count": 28,
   "metadata": {},
   "outputs": [
    {
     "name": "stdout",
     "output_type": "stream",
     "text": [
      "+---+---+---+---+---+---+---+---+---+---+\n",
      "|                 17  16  15  14  13  12|\n",
      "+---+---+   +   +   +   +---+---+   +   +\n",
      "|           |   | 18|   |           | 11|\n",
      "+---+   +   +---+   +   +   +---+---+   +\n",
      "|       |   | 1A  19|   |   |         10|\n",
      "+   +---+---+   +   +---+---+---+---+   +\n",
      "|   | 1D  1C  1B|   |                 0F|\n",
      "+---+   +   +---+---+   +---+---+---+   +\n",
      "|     1E|   |           |     0C  0D  0E|\n",
      "+   +   +   +---+   +---+---+   +   +   +\n",
      "|   | 1F|   |       | 09  0A  0B|   |   |\n",
      "+---+   +   +---+---+   +   +---+---+   +\n",
      "| 21  20|   |     07  08|   |           |\n",
      "+   +---+---+---+   +   +---+   +---+   +\n",
      "| 22| 03  04  05  06|   |       |       |\n",
      "+   +   +   +   +   +   +   +   +   +   +\n",
      "| 23| 02|   |   |   |   |   |   |   |   |\n",
      "+---+   +   +   +---+   +   +---+---+   +\n",
      "|     01|   |   |       |   |           |\n",
      "+---+---+---+---+---+---+---+---+---+---+\n",
      "\n"
     ]
    }
   ],
   "source": [
    "ae.render(grid)"
   ]
  },
  {
   "cell_type": "code",
   "execution_count": null,
   "metadata": {
    "collapsed": true
   },
   "outputs": [],
   "source": []
  }
 ],
 "metadata": {
  "kernelspec": {
   "display_name": "Python 3",
   "language": "python",
   "name": "python3"
  },
  "language_info": {
   "codemirror_mode": {
    "name": "ipython",
    "version": 3
   },
   "file_extension": ".py",
   "mimetype": "text/x-python",
   "name": "python",
   "nbconvert_exporter": "python",
   "pygments_lexer": "ipython3",
   "version": "3.6.3"
  }
 },
 "nbformat": 4,
 "nbformat_minor": 2
}
