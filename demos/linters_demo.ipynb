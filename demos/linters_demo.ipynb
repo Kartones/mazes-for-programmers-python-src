{
 "cells": [
  {
   "cell_type": "code",
   "execution_count": 1,
   "metadata": {
    "collapsed": true
   },
   "outputs": [],
   "source": [
    "# Temporarilly add parent folder to path\n",
    "import os\n",
    "import sys\n",
    "module_path = os.path.abspath(os.path.join('..'))\n",
    "if module_path not in sys.path:\n",
    "    sys.path.append(module_path)\n",
    "    \n",
    "import subprocess"
   ]
  },
  {
   "cell_type": "code",
   "execution_count": 6,
   "metadata": {},
   "outputs": [
    {
     "name": "stdout",
     "output_type": "stream",
     "text": [
      "flake8 output:\n",
      "\n",
      "end\n"
     ]
    }
   ],
   "source": [
    "# Run flake8 and print the output\n",
    "flake8_binary = subprocess.check_output('which flake8',shell=True).decode('ascii').replace('\\n', '')\n",
    "flake8_call = '{} --ignore=E701,E704,E402,E302,E305,E241,E201 {}'.format(flake8_binary, module_path)\n",
    "\n",
    "process = subprocess.Popen(flake8_call, shell=True, stdout=subprocess.PIPE)\n",
    "out, err = process.communicate()\n",
    "out = out.decode('ascii').split('\\n')\n",
    "\n",
    "print('flake8 output:')\n",
    "for line in out:\n",
    "    if line[:len(module_path)] == module_path:\n",
    "        line = '.' + line[len(module_path):]\n",
    "    print(line)\n",
    "print('end')"
   ]
  },
  {
   "cell_type": "code",
   "execution_count": 9,
   "metadata": {},
   "outputs": [
    {
     "name": "stdout",
     "output_type": "stream",
     "text": [
      "mypy output:\n",
      "\n",
      "end\n"
     ]
    }
   ],
   "source": [
    "# Run mypy and print the output\n",
    "mypy_binary = subprocess.check_output('which mypy',shell=True).decode('ascii').replace('\\n', '')\n",
    "mypy_call = '{}'.format(mypy_binary)\n",
    "mypy_options = ['--ignore-missing-imports', '--disallow-untyped-defs',\n",
    "                '--check-untyped-defs', '--warn-redundant-casts',\n",
    "                '--warn-return-any', '--warn-unused-ignores',\n",
    "                '--strict-optional']\n",
    "for option in mypy_options:\n",
    "    mypy_call += ' ' + option\n",
    "\n",
    "mypy_call += ' {}'.format(module_path)\n",
    "\n",
    "process = subprocess.Popen(mypy_call, shell=True, stdout=subprocess.PIPE)\n",
    "out, err = process.communicate()\n",
    "out = out.decode('ascii').split('\\n')\n",
    "\n",
    "print('mypy output:')\n",
    "for line in out:\n",
    "    if line[:len(module_path)] == module_path:\n",
    "        line = '.' + line[len(module_path):]\n",
    "    print(line)\n",
    "print('end')"
   ]
  },
  {
   "cell_type": "code",
   "execution_count": null,
   "metadata": {
    "collapsed": true
   },
   "outputs": [],
   "source": []
  }
 ],
 "metadata": {
  "kernelspec": {
   "display_name": "Python 3",
   "language": "python",
   "name": "python3"
  },
  "language_info": {
   "codemirror_mode": {
    "name": "ipython",
    "version": 3
   },
   "file_extension": ".py",
   "mimetype": "text/x-python",
   "name": "python",
   "nbconvert_exporter": "python",
   "pygments_lexer": "ipython3",
   "version": "3.6.3"
  }
 },
 "nbformat": 4,
 "nbformat_minor": 2
}
